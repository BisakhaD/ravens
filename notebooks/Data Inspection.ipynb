{
 "cells": [
  {
   "cell_type": "code",
   "execution_count": null,
   "id": "ec4554fd",
   "metadata": {},
   "outputs": [],
   "source": [
    "import numpy as np\n",
    "import matplotlib.pyplot as plt\n",
    "import os\n",
    "\n",
    "import sys\n",
    "sys.path.insert(1, os.path.join(sys.path[0], '..'))\n",
    "\n",
    "from ravens.utils import utils\n",
    "from ravens.dataset import Dataset\n",
    "\n",
    "import imageio\n",
    "from IPython.display import Video\n",
    "import pybullet as p\n",
    "import copy\n",
    "\n",
    "np.set_printoptions(formatter={'float': lambda x: \"{0:0.4f}\".format(x)})"
   ]
  },
  {
   "cell_type": "code",
   "execution_count": null,
   "id": "51ffba00",
   "metadata": {},
   "outputs": [],
   "source": [
    "DATA_DIR = '../data/'\n",
    "TASK = 'block-insertion'"
   ]
  },
  {
   "cell_type": "code",
   "execution_count": null,
   "id": "043f6785",
   "metadata": {},
   "outputs": [],
   "source": [
    "# Helper methods.\n",
    "def view(obs, key='color', figsize=(20, 10)):\n",
    "    obses = np.hstack(obs[key])\n",
    "    fig = plt.figure(figsize=figsize)\n",
    "    plt.imshow(obses)\n",
    "    plt.axis(\"off\")\n",
    "    plt.show()"
   ]
  },
  {
   "cell_type": "code",
   "execution_count": null,
   "id": "bf47d004",
   "metadata": {},
   "outputs": [],
   "source": [
    "train_dataset = Dataset(os.path.join(DATA_DIR, f'{TASK}-train'))\n",
    "print(f\"Episodes in dataset: {train_dataset.n_episodes}.\")"
   ]
  },
  {
   "cell_type": "code",
   "execution_count": null,
   "id": "92606b10",
   "metadata": {},
   "outputs": [],
   "source": [
    "EPISODE_NO = 150\n",
    "episode, seed = train_dataset.load(EPISODE_NO)"
   ]
  },
  {
   "cell_type": "code",
   "execution_count": null,
   "id": "f08edf40",
   "metadata": {
    "scrolled": false
   },
   "outputs": [],
   "source": [
    "for i, transition in enumerate(episode[::5]):\n",
    "    # Unpack transition.\n",
    "    obs, action, rew, info = transition\n",
    "    \n",
    "    # Plot obes.\n",
    "    view(obs, key='color')"
   ]
  }
 ],
 "metadata": {
  "kernelspec": {
   "display_name": "Python 3",
   "language": "python",
   "name": "python3"
  },
  "language_info": {
   "codemirror_mode": {
    "name": "ipython",
    "version": 3
   },
   "file_extension": ".py",
   "mimetype": "text/x-python",
   "name": "python",
   "nbconvert_exporter": "python",
   "pygments_lexer": "ipython3",
   "version": "3.7.10"
  }
 },
 "nbformat": 4,
 "nbformat_minor": 5
}
